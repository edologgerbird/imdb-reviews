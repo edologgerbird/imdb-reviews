{
 "metadata": {
  "language_info": {
   "codemirror_mode": {
    "name": "ipython",
    "version": 3
   },
   "file_extension": ".py",
   "mimetype": "text/x-python",
   "name": "python",
   "nbconvert_exporter": "python",
   "pygments_lexer": "ipython3",
   "version": "3.8.5"
  },
  "orig_nbformat": 4,
  "kernelspec": {
   "name": "python3",
   "display_name": "Python 3.8.5 64-bit ('base': conda)"
  },
  "interpreter": {
   "hash": "b3eae607148ff0a599e70772c0f7727589d0b1beea087ab41fc4f7f594d8e05a"
  }
 },
 "nbformat": 4,
 "nbformat_minor": 2,
 "cells": [
  {
   "cell_type": "code",
   "execution_count": 2,
   "source": [
    "# EDA\r\n",
    "import pandas as pd\r\n",
    "import matplotlib.pyplot as plt\r\n",
    "import numpy as np\r\n",
    "from numpy import save,load\r\n",
    "\r\n",
    "# NLP stuff\r\n",
    "from sklearn.model_selection import train_test_split\r\n",
    "from sklearn.preprocessing import LabelEncoder\r\n",
    "from sklearn.metrics import confusion_matrix, classification_report, accuracy_score\r\n",
    "from sklearn.manifold import TSNE\r\n",
    "from sklearn.feature_extraction.text import TfidfVectorizer\r\n",
    "\r\n",
    "import nltk\r\n",
    "from nltk.corpus import stopwords\r\n",
    "from  nltk.stem import SnowballStemmer\r\n",
    "\r\n",
    "from gensim.models import Word2Vec\r\n",
    "import gensim\r\n",
    "\r\n",
    "# LSTM machine learning stuff etc\r\n",
    "import tensorflow as tf\r\n",
    "from tensorflow import keras\r\n",
    "from keras.preprocessing.text import Tokenizer\r\n",
    "from keras.preprocessing.sequence import pad_sequences\r\n",
    "from keras.models import Sequential\r\n",
    "from keras import utils\r\n",
    "from keras.callbacks import ReduceLROnPlateau, EarlyStopping\r\n",
    "\r\n",
    "# Support\r\n",
    "import re\r\n",
    "import os\r\n",
    "from collections import Counter\r\n",
    "import logging\r\n",
    "import time\r\n",
    "import pickle\r\n",
    "import itertools"
   ],
   "outputs": [],
   "metadata": {}
  },
  {
   "cell_type": "code",
   "execution_count": 3,
   "source": [
    "#SETTINGS\r\n",
    "\r\n",
    "#DATASET\r\n",
    "TRAIN_SIZE = 0.8\r\n",
    "\r\n",
    "#TEXT CLEANING REGEX \r\n",
    "TEXT_CLEANING_RE = \"@\\S+|https?:\\S+|http?:\\S|[^A-Za-z0-9]+\"\r\n",
    "\r\n",
    "# WORD2VEC \r\n",
    "W2V_SIZE = 300\r\n",
    "W2V_WINDOW = 7\r\n",
    "W2V_EPOCH = 32\r\n",
    "W2V_MIN_COUNT = 10\r\n",
    "\r\n",
    "# KERAS\r\n",
    "SEQUENCE_LENGTH = 300\r\n",
    "EPOCHS = 32\r\n",
    "BATCH_SIZE = 1024\r\n",
    "\r\n",
    "# EXPORT\r\n",
    "KERAS_MODEL = \"model.h5\"\r\n",
    "WORD2VEC_MODEL = \"model.w2v\"\r\n",
    "TOKENIZER_MODEL = \"tokenizer.pkl\"\r\n",
    "ENCODER_MODEL = \"encoder.pkl\""
   ],
   "outputs": [],
   "metadata": {}
  },
  {
   "cell_type": "markdown",
   "source": [
    "### Importing Data"
   ],
   "metadata": {}
  },
  {
   "cell_type": "code",
   "execution_count": 4,
   "source": [
    "df = pd.read_csv(\"IMDB Dataset.csv\")"
   ],
   "outputs": [],
   "metadata": {}
  },
  {
   "cell_type": "markdown",
   "source": [
    "### Exploring the Data\n"
   ],
   "metadata": {}
  },
  {
   "cell_type": "code",
   "execution_count": 5,
   "source": [
    "df.head()"
   ],
   "outputs": [
    {
     "output_type": "execute_result",
     "data": {
      "text/plain": [
       "                                              review sentiment\n",
       "0  One of the other reviewers has mentioned that ...  positive\n",
       "1  A wonderful little production. <br /><br />The...  positive\n",
       "2  I thought this was a wonderful way to spend ti...  positive\n",
       "3  Basically there's a family where a little boy ...  negative\n",
       "4  Petter Mattei's \"Love in the Time of Money\" is...  positive"
      ],
      "text/html": [
       "<div>\n",
       "<style scoped>\n",
       "    .dataframe tbody tr th:only-of-type {\n",
       "        vertical-align: middle;\n",
       "    }\n",
       "\n",
       "    .dataframe tbody tr th {\n",
       "        vertical-align: top;\n",
       "    }\n",
       "\n",
       "    .dataframe thead th {\n",
       "        text-align: right;\n",
       "    }\n",
       "</style>\n",
       "<table border=\"1\" class=\"dataframe\">\n",
       "  <thead>\n",
       "    <tr style=\"text-align: right;\">\n",
       "      <th></th>\n",
       "      <th>review</th>\n",
       "      <th>sentiment</th>\n",
       "    </tr>\n",
       "  </thead>\n",
       "  <tbody>\n",
       "    <tr>\n",
       "      <th>0</th>\n",
       "      <td>One of the other reviewers has mentioned that ...</td>\n",
       "      <td>positive</td>\n",
       "    </tr>\n",
       "    <tr>\n",
       "      <th>1</th>\n",
       "      <td>A wonderful little production. &lt;br /&gt;&lt;br /&gt;The...</td>\n",
       "      <td>positive</td>\n",
       "    </tr>\n",
       "    <tr>\n",
       "      <th>2</th>\n",
       "      <td>I thought this was a wonderful way to spend ti...</td>\n",
       "      <td>positive</td>\n",
       "    </tr>\n",
       "    <tr>\n",
       "      <th>3</th>\n",
       "      <td>Basically there's a family where a little boy ...</td>\n",
       "      <td>negative</td>\n",
       "    </tr>\n",
       "    <tr>\n",
       "      <th>4</th>\n",
       "      <td>Petter Mattei's \"Love in the Time of Money\" is...</td>\n",
       "      <td>positive</td>\n",
       "    </tr>\n",
       "  </tbody>\n",
       "</table>\n",
       "</div>"
      ]
     },
     "metadata": {},
     "execution_count": 5
    }
   ],
   "metadata": {}
  },
  {
   "cell_type": "code",
   "execution_count": 6,
   "source": [
    "df.shape"
   ],
   "outputs": [
    {
     "output_type": "execute_result",
     "data": {
      "text/plain": [
       "(50000, 2)"
      ]
     },
     "metadata": {},
     "execution_count": 6
    }
   ],
   "metadata": {}
  },
  {
   "cell_type": "code",
   "execution_count": 7,
   "source": [
    "df.sentiment.unique()"
   ],
   "outputs": [
    {
     "output_type": "execute_result",
     "data": {
      "text/plain": [
       "array(['positive', 'negative'], dtype=object)"
      ]
     },
     "metadata": {},
     "execution_count": 7
    }
   ],
   "metadata": {}
  },
  {
   "cell_type": "markdown",
   "source": [
    "### Checking for null inputs"
   ],
   "metadata": {}
  },
  {
   "cell_type": "code",
   "execution_count": 8,
   "source": [
    "df.info()"
   ],
   "outputs": [
    {
     "output_type": "stream",
     "name": "stdout",
     "text": [
      "<class 'pandas.core.frame.DataFrame'>\n",
      "RangeIndex: 50000 entries, 0 to 49999\n",
      "Data columns (total 2 columns):\n",
      " #   Column     Non-Null Count  Dtype \n",
      "---  ------     --------------  ----- \n",
      " 0   review     50000 non-null  object\n",
      " 1   sentiment  50000 non-null  object\n",
      "dtypes: object(2)\n",
      "memory usage: 781.4+ KB\n"
     ]
    }
   ],
   "metadata": {}
  },
  {
   "cell_type": "markdown",
   "source": [
    "### Distribution of Labels"
   ],
   "metadata": {}
  },
  {
   "cell_type": "code",
   "execution_count": 9,
   "source": [
    "sentiment_cnt = Counter(df.sentiment)\r\n",
    "\r\n",
    "sentiment_cnt"
   ],
   "outputs": [
    {
     "output_type": "execute_result",
     "data": {
      "text/plain": [
       "Counter({'positive': 25000, 'negative': 25000})"
      ]
     },
     "metadata": {},
     "execution_count": 9
    }
   ],
   "metadata": {}
  },
  {
   "cell_type": "markdown",
   "source": [
    "### Preprocessing Text"
   ],
   "metadata": {}
  },
  {
   "cell_type": "markdown",
   "source": [
    "In this section, we pre-process the reviews before feeding the text data into the models. We will perform the following processes:\n",
    "\n",
    "1. Remove \"@\" usernames, URLs, and non-alphanumeric characters.\n",
    "\n",
    "2. Remove stop-words.\n",
    "\n",
    "3. Stem words to reduce words to their root form."
   ],
   "metadata": {}
  },
  {
   "cell_type": "code",
   "execution_count": 10,
   "source": [
    "stop_words = stopwords.words(\"english\")\r\n",
    "stemmer = SnowballStemmer(\"english\")"
   ],
   "outputs": [],
   "metadata": {}
  },
  {
   "cell_type": "markdown",
   "source": [
    "Previewing Stop-words"
   ],
   "metadata": {}
  },
  {
   "cell_type": "code",
   "execution_count": 11,
   "source": [
    "\", \".join(stop_words) "
   ],
   "outputs": [
    {
     "output_type": "execute_result",
     "data": {
      "text/plain": [
       "\"i, me, my, myself, we, our, ours, ourselves, you, you're, you've, you'll, you'd, your, yours, yourself, yourselves, he, him, his, himself, she, she's, her, hers, herself, it, it's, its, itself, they, them, their, theirs, themselves, what, which, who, whom, this, that, that'll, these, those, am, is, are, was, were, be, been, being, have, has, had, having, do, does, did, doing, a, an, the, and, but, if, or, because, as, until, while, of, at, by, for, with, about, against, between, into, through, during, before, after, above, below, to, from, up, down, in, out, on, off, over, under, again, further, then, once, here, there, when, where, why, how, all, any, both, each, few, more, most, other, some, such, no, nor, not, only, own, same, so, than, too, very, s, t, can, will, just, don, don't, should, should've, now, d, ll, m, o, re, ve, y, ain, aren, aren't, couldn, couldn't, didn, didn't, doesn, doesn't, hadn, hadn't, hasn, hasn't, haven, haven't, isn, isn't, ma, mightn, mightn't, mustn, mustn't, needn, needn't, shan, shan't, shouldn, shouldn't, wasn, wasn't, weren, weren't, won, won't, wouldn, wouldn't\""
      ]
     },
     "metadata": {},
     "execution_count": 11
    }
   ],
   "metadata": {}
  },
  {
   "cell_type": "code",
   "execution_count": 12,
   "source": [
    "def preprocess(text):\r\n",
    "    text = re.sub(TEXT_CLEANING_RE, ' ', str(text).lower()).strip()\r\n",
    "    tokens = []\r\n",
    "    for token in text.split():\r\n",
    "        if token not in stop_words:\r\n",
    "            tokens.append(stemmer.stem(token))\r\n",
    "    return \" \".join(tokens)"
   ],
   "outputs": [],
   "metadata": {}
  },
  {
   "cell_type": "code",
   "execution_count": 13,
   "source": [
    "%%time\r\n",
    "df.review = df.review.apply(lambda x:preprocess(x))"
   ],
   "outputs": [
    {
     "output_type": "stream",
     "name": "stdout",
     "text": [
      "Wall time: 1min 42s\n"
     ]
    }
   ],
   "metadata": {}
  },
  {
   "cell_type": "markdown",
   "source": [
    "### Splitting Training and Testing Set"
   ],
   "metadata": {}
  },
  {
   "cell_type": "code",
   "execution_count": 14,
   "source": [
    "df_train, df_test = train_test_split(df, test_size=1-TRAIN_SIZE, random_state=123)\r\n",
    "print(\"TRAIN size:\", len(df_train))\r\n",
    "print(\"TEST size:\", len(df_test))"
   ],
   "outputs": [
    {
     "output_type": "stream",
     "name": "stdout",
     "text": [
      "TRAIN size: 40000\n",
      "TEST size: 10000\n"
     ]
    }
   ],
   "metadata": {}
  },
  {
   "cell_type": "code",
   "execution_count": 15,
   "source": [
    "df_train"
   ],
   "outputs": [
    {
     "output_type": "execute_result",
     "data": {
      "text/plain": [
       "                                                  review sentiment\n",
       "2660   ok first may spoiler sinc know constitut give ...  negative\n",
       "32815  came new port south expect surrog movi columbi...  negative\n",
       "35141  1st watch 8 7 2004 3 10 dir brett thompson sil...  negative\n",
       "19390  first post imdb unfortun warn other wast time ...  negative\n",
       "34846  movi man like blow gas contain br br also love...  negative\n",
       "...                                                  ...       ...\n",
       "7763   movi sooooooo good hilari mani joke watch movi...  positive\n",
       "15377  nifti littl movi demonstr rock solid virtu tim...  positive\n",
       "17730  one moment film laugh mel brook one high point...  positive\n",
       "28030  fan troma cyberpunk genr mix littl blood shed ...  positive\n",
       "15725  movi realli show age print saw terribl due age...  negative\n",
       "\n",
       "[40000 rows x 2 columns]"
      ],
      "text/html": [
       "<div>\n",
       "<style scoped>\n",
       "    .dataframe tbody tr th:only-of-type {\n",
       "        vertical-align: middle;\n",
       "    }\n",
       "\n",
       "    .dataframe tbody tr th {\n",
       "        vertical-align: top;\n",
       "    }\n",
       "\n",
       "    .dataframe thead th {\n",
       "        text-align: right;\n",
       "    }\n",
       "</style>\n",
       "<table border=\"1\" class=\"dataframe\">\n",
       "  <thead>\n",
       "    <tr style=\"text-align: right;\">\n",
       "      <th></th>\n",
       "      <th>review</th>\n",
       "      <th>sentiment</th>\n",
       "    </tr>\n",
       "  </thead>\n",
       "  <tbody>\n",
       "    <tr>\n",
       "      <th>2660</th>\n",
       "      <td>ok first may spoiler sinc know constitut give ...</td>\n",
       "      <td>negative</td>\n",
       "    </tr>\n",
       "    <tr>\n",
       "      <th>32815</th>\n",
       "      <td>came new port south expect surrog movi columbi...</td>\n",
       "      <td>negative</td>\n",
       "    </tr>\n",
       "    <tr>\n",
       "      <th>35141</th>\n",
       "      <td>1st watch 8 7 2004 3 10 dir brett thompson sil...</td>\n",
       "      <td>negative</td>\n",
       "    </tr>\n",
       "    <tr>\n",
       "      <th>19390</th>\n",
       "      <td>first post imdb unfortun warn other wast time ...</td>\n",
       "      <td>negative</td>\n",
       "    </tr>\n",
       "    <tr>\n",
       "      <th>34846</th>\n",
       "      <td>movi man like blow gas contain br br also love...</td>\n",
       "      <td>negative</td>\n",
       "    </tr>\n",
       "    <tr>\n",
       "      <th>...</th>\n",
       "      <td>...</td>\n",
       "      <td>...</td>\n",
       "    </tr>\n",
       "    <tr>\n",
       "      <th>7763</th>\n",
       "      <td>movi sooooooo good hilari mani joke watch movi...</td>\n",
       "      <td>positive</td>\n",
       "    </tr>\n",
       "    <tr>\n",
       "      <th>15377</th>\n",
       "      <td>nifti littl movi demonstr rock solid virtu tim...</td>\n",
       "      <td>positive</td>\n",
       "    </tr>\n",
       "    <tr>\n",
       "      <th>17730</th>\n",
       "      <td>one moment film laugh mel brook one high point...</td>\n",
       "      <td>positive</td>\n",
       "    </tr>\n",
       "    <tr>\n",
       "      <th>28030</th>\n",
       "      <td>fan troma cyberpunk genr mix littl blood shed ...</td>\n",
       "      <td>positive</td>\n",
       "    </tr>\n",
       "    <tr>\n",
       "      <th>15725</th>\n",
       "      <td>movi realli show age print saw terribl due age...</td>\n",
       "      <td>negative</td>\n",
       "    </tr>\n",
       "  </tbody>\n",
       "</table>\n",
       "<p>40000 rows × 2 columns</p>\n",
       "</div>"
      ]
     },
     "metadata": {},
     "execution_count": 15
    }
   ],
   "metadata": {}
  },
  {
   "cell_type": "markdown",
   "source": [
    "### Word2Vec Model\n",
    "\n",
    "Word2vec models embed words in a lower-dimensional vector space using a shallow neural network. The result is a set of word-vectors where vectors close together in vector space have similar meanings based on context, and word-vectors distant to each other have differing meanings. \n",
    "\n",
    "Word2vec learns relationships between words automatically by converting words into vectors (one vector per word). These vectors display remarkable linear relationships. "
   ],
   "metadata": {}
  },
  {
   "cell_type": "code",
   "execution_count": 16,
   "source": [
    "documents = [review.split() for review in df_train.review]"
   ],
   "outputs": [],
   "metadata": {}
  },
  {
   "cell_type": "code",
   "execution_count": 17,
   "source": [
    "w2v_model = gensim.models.word2vec.Word2Vec(vector_size=W2V_SIZE, \r\n",
    "                                            window=W2V_WINDOW, \r\n",
    "                                            min_count=W2V_MIN_COUNT, \r\n",
    "                                            workers=8)"
   ],
   "outputs": [],
   "metadata": {}
  },
  {
   "cell_type": "code",
   "execution_count": 18,
   "source": [
    "w2v_model.build_vocab(documents)"
   ],
   "outputs": [],
   "metadata": {}
  },
  {
   "cell_type": "code",
   "execution_count": 19,
   "source": [
    "%%time\r\n",
    "w2v_model.train(documents, total_examples=len(documents), epochs=W2V_EPOCH)"
   ],
   "outputs": [
    {
     "output_type": "stream",
     "name": "stdout",
     "text": [
      "Wall time: 1min 45s\n"
     ]
    },
    {
     "output_type": "execute_result",
     "data": {
      "text/plain": [
       "(142751240, 158605408)"
      ]
     },
     "metadata": {},
     "execution_count": 19
    }
   ],
   "metadata": {}
  },
  {
   "cell_type": "code",
   "execution_count": 20,
   "source": [
    "w2v_model.wv.most_similar(\"enjoy\")"
   ],
   "outputs": [
    {
     "output_type": "execute_result",
     "data": {
      "text/plain": [
       "[('entertain', 0.538741409778595),\n",
       " ('fun', 0.5360259413719177),\n",
       " ('recommend', 0.5257651209831238),\n",
       " ('appreci', 0.4948905110359192),\n",
       " ('watch', 0.4783436954021454),\n",
       " ('movi', 0.4109710156917572),\n",
       " ('disappoint', 0.4102693498134613),\n",
       " ('worth', 0.3819695711135864),\n",
       " ('fan', 0.3809729814529419),\n",
       " ('expect', 0.38031861186027527)]"
      ]
     },
     "metadata": {},
     "execution_count": 20
    }
   ],
   "metadata": {}
  },
  {
   "cell_type": "markdown",
   "source": [
    "### Tokenize Text\r\n",
    "\r\n",
    "Tokenizer() is a class from Tensorflow which allows the vectorising of text corpus, turning each text into either a sequence of integers (each integer being the index of a token in a dictionary) or into a vector where the coefficient for each token could be binary, based on word count, based on tf-idf etc.\r\n",
    "\r\n",
    "In this section, we tokenise the reviews to split them up into words, each represented by a sequence of integers, and we fit the texts on the tokenizer to maintain a vocabulary list."
   ],
   "metadata": {}
  },
  {
   "cell_type": "code",
   "execution_count": 21,
   "source": [
    "%%time\r\n",
    "tokenizer = Tokenizer()\r\n",
    "tokenizer.fit_on_texts(df_train.review)\r\n",
    "\r\n",
    "vocab_size = len(tokenizer.word_index) + 1\r\n",
    "print(\"Total words\", vocab_size)"
   ],
   "outputs": [
    {
     "output_type": "stream",
     "name": "stdout",
     "text": [
      "Total words 63400\n",
      "Wall time: 3.37 s\n"
     ]
    }
   ],
   "metadata": {}
  },
  {
   "cell_type": "markdown",
   "source": [
    "### Padding\r\n",
    "\r\n",
    "In this section, we pad the sequences to the same length. We pad the text data to a maximum length of 300."
   ],
   "metadata": {}
  },
  {
   "cell_type": "code",
   "execution_count": 22,
   "source": [
    "%%time\r\n",
    "x_train = pad_sequences(tokenizer.texts_to_sequences(df_train. review), maxlen=SEQUENCE_LENGTH)\r\n",
    "x_test = pad_sequences(tokenizer.texts_to_sequences(df_test.review), maxlen=SEQUENCE_LENGTH)"
   ],
   "outputs": [
    {
     "output_type": "stream",
     "name": "stdout",
     "text": [
      "Wall time: 3.59 s\n"
     ]
    }
   ],
   "metadata": {}
  },
  {
   "cell_type": "markdown",
   "source": [
    "### Label encoding\r\n",
    "\r\n",
    "In this section, we encode our sentiments into labels, and reshape them for our model."
   ],
   "metadata": {}
  },
  {
   "cell_type": "code",
   "execution_count": 23,
   "source": [
    "labels = df_train.sentiment.unique().tolist()\r\n",
    "labels"
   ],
   "outputs": [
    {
     "output_type": "execute_result",
     "data": {
      "text/plain": [
       "['negative', 'positive']"
      ]
     },
     "metadata": {},
     "execution_count": 23
    }
   ],
   "metadata": {}
  },
  {
   "cell_type": "code",
   "execution_count": 24,
   "source": [
    "encoder = LabelEncoder()\r\n",
    "encoder.fit(df_train.sentiment.tolist())\r\n",
    "\r\n",
    "y_train = encoder.transform(df_train.sentiment.tolist())\r\n",
    "y_test = encoder.transform(df_test.sentiment.tolist())\r\n",
    "\r\n",
    "y_train = y_train.reshape(-1,1)\r\n",
    "y_test = y_test.reshape(-1,1)\r\n",
    "\r\n",
    "print(\"y_train\",y_train.shape)\r\n",
    "print(\"y_test\",y_test.shape)"
   ],
   "outputs": [
    {
     "output_type": "stream",
     "name": "stdout",
     "text": [
      "y_train (40000, 1)\n",
      "y_test (10000, 1)\n"
     ]
    }
   ],
   "metadata": {}
  },
  {
   "cell_type": "markdown",
   "source": [
    "### Previewing shapes"
   ],
   "metadata": {}
  },
  {
   "cell_type": "code",
   "execution_count": 25,
   "source": [
    "print(\"x_train\", x_train.shape)\r\n",
    "print(\"y_train\", y_train.shape)\r\n",
    "\r\n",
    "print(\"x_test\", x_test.shape)\r\n",
    "print(\"y_test\", y_test.shape)"
   ],
   "outputs": [
    {
     "output_type": "stream",
     "name": "stdout",
     "text": [
      "x_train (40000, 300)\n",
      "y_train (40000, 1)\n",
      "x_test (10000, 300)\n",
      "y_test (10000, 1)\n"
     ]
    }
   ],
   "metadata": {}
  },
  {
   "cell_type": "markdown",
   "source": [
    "### Embedding Matrix\r\n",
    "\r\n",
    "In this section, we create an embedding matrix which contains the weights of each individual word that will be trained during by our model later. Essentially, we are populating a matrix with words that appear in the tokenizer vocabulary list and their associated weights as obtained from our Word2Vec model.\r\n"
   ],
   "metadata": {}
  },
  {
   "cell_type": "code",
   "execution_count": 26,
   "source": [
    "embedding_matrix = np.zeros((vocab_size, W2V_SIZE))\r\n",
    "for word, i in tokenizer.word_index.items():\r\n",
    "  if word in w2v_model.wv:\r\n",
    "    embedding_matrix[i] = w2v_model.wv[word]\r\n",
    "print(embedding_matrix.shape)"
   ],
   "outputs": [
    {
     "output_type": "stream",
     "name": "stdout",
     "text": [
      "(63400, 300)\n"
     ]
    }
   ],
   "metadata": {}
  },
  {
   "cell_type": "markdown",
   "source": [
    "### Model Building\n",
    "\n",
    "Building a model with multiple layers including an Embedding layer, Convolutional layer, Maxpooling and LSTM."
   ],
   "metadata": {}
  },
  {
   "cell_type": "code",
   "execution_count": 27,
   "source": [
    "model = tf.keras.Sequential([\r\n",
    "    tf.keras.layers.Embedding(vocab_size, W2V_SIZE, weights=[embedding_matrix], input_length=SEQUENCE_LENGTH, trainable=False),\r\n",
    "    tf.keras.layers.Dropout(0.2),\r\n",
    "    tf.keras.layers.Conv1D(64, 5, activation='relu'),\r\n",
    "    tf.keras.layers.MaxPooling1D(pool_size=4),\r\n",
    "    tf.keras.layers.LSTM(128, dropout=0.2, recurrent_dropout=0.2),\r\n",
    "    tf.keras.layers.Dense(1, activation='sigmoid')\r\n",
    "])\r\n",
    "\r\n",
    "model.summary()"
   ],
   "outputs": [
    {
     "output_type": "stream",
     "name": "stdout",
     "text": [
      "Model: \"sequential\"\n",
      "_________________________________________________________________\n",
      "Layer (type)                 Output Shape              Param #   \n",
      "=================================================================\n",
      "embedding (Embedding)        (None, 300, 300)          19020000  \n",
      "_________________________________________________________________\n",
      "dropout (Dropout)            (None, 300, 300)          0         \n",
      "_________________________________________________________________\n",
      "conv1d (Conv1D)              (None, 296, 64)           96064     \n",
      "_________________________________________________________________\n",
      "max_pooling1d (MaxPooling1D) (None, 74, 64)            0         \n",
      "_________________________________________________________________\n",
      "lstm (LSTM)                  (None, 128)               98816     \n",
      "_________________________________________________________________\n",
      "dense (Dense)                (None, 1)                 129       \n",
      "=================================================================\n",
      "Total params: 19,215,009\n",
      "Trainable params: 195,009\n",
      "Non-trainable params: 19,020,000\n",
      "_________________________________________________________________\n"
     ]
    }
   ],
   "metadata": {}
  },
  {
   "cell_type": "markdown",
   "source": [
    "### Model Compilation\n",
    "\n",
    "Model is compiled to optimise loss via adam to minimise binary crossentropy loss."
   ],
   "metadata": {}
  },
  {
   "cell_type": "code",
   "execution_count": 28,
   "source": [
    "model.compile(loss='binary_crossentropy',\r\n",
    "              optimizer=\"adam\",\r\n",
    "              metrics=['accuracy'])"
   ],
   "outputs": [],
   "metadata": {}
  },
  {
   "cell_type": "markdown",
   "source": [
    "### Model Callbacks\n",
    "\n",
    "We include callbacks to our model. We include the ReduceLROnPlateau to automatically adjust Learning Rate based on gradient, to allow for more effective convergence at local minima. We also include EarlyStopping to reduce overfitting."
   ],
   "metadata": {}
  },
  {
   "cell_type": "code",
   "execution_count": 29,
   "source": [
    "callbacks = [ ReduceLROnPlateau(monitor='val_loss', patience=5, cooldown=0),\r\n",
    "              EarlyStopping(monitor='val_accuracy', min_delta=1e-4, patience=5)]"
   ],
   "outputs": [],
   "metadata": {}
  },
  {
   "cell_type": "markdown",
   "source": [
    "### Model Training\n",
    "\n",
    "We train the model using the following settings:\n",
    "\n",
    "batch_size = 1024\n",
    "\n",
    "epochs = 32\n",
    "\n",
    "validation split = 0.1\n",
    "\n"
   ],
   "metadata": {}
  },
  {
   "cell_type": "code",
   "execution_count": 30,
   "source": [
    "%%time\r\n",
    "history = model.fit(x_train, y_train,\r\n",
    "                    batch_size=BATCH_SIZE,\r\n",
    "                    epochs=EPOCHS,\r\n",
    "                    validation_split=0.1,\r\n",
    "                    verbose=1,\r\n",
    "                    callbacks=callbacks)"
   ],
   "outputs": [
    {
     "output_type": "stream",
     "name": "stdout",
     "text": [
      "Epoch 1/32\n",
      "36/36 [==============================] - 88s 2s/step - loss: 0.4756 - accuracy: 0.7593 - val_loss: 0.3229 - val_accuracy: 0.8620\n",
      "Epoch 2/32\n",
      "36/36 [==============================] - 103s 3s/step - loss: 0.2988 - accuracy: 0.8740 - val_loss: 0.3078 - val_accuracy: 0.8770\n",
      "Epoch 3/32\n",
      "36/36 [==============================] - 111s 3s/step - loss: 0.2721 - accuracy: 0.8858 - val_loss: 0.2872 - val_accuracy: 0.8748\n",
      "Epoch 4/32\n",
      "36/36 [==============================] - 115s 3s/step - loss: 0.2539 - accuracy: 0.8940 - val_loss: 0.2750 - val_accuracy: 0.8878\n",
      "Epoch 5/32\n",
      "36/36 [==============================] - 117s 3s/step - loss: 0.2388 - accuracy: 0.9021 - val_loss: 0.2624 - val_accuracy: 0.8915\n",
      "Epoch 6/32\n",
      "36/36 [==============================] - 118s 3s/step - loss: 0.2223 - accuracy: 0.9110 - val_loss: 0.2633 - val_accuracy: 0.8923\n",
      "Epoch 7/32\n",
      "36/36 [==============================] - 129s 4s/step - loss: 0.2112 - accuracy: 0.9147 - val_loss: 0.2735 - val_accuracy: 0.8913\n",
      "Epoch 8/32\n",
      "36/36 [==============================] - 127s 4s/step - loss: 0.1988 - accuracy: 0.9206 - val_loss: 0.2657 - val_accuracy: 0.8938\n",
      "Epoch 9/32\n",
      "36/36 [==============================] - 131s 4s/step - loss: 0.1924 - accuracy: 0.9234 - val_loss: 0.2890 - val_accuracy: 0.8823\n",
      "Epoch 10/32\n",
      "36/36 [==============================] - 135s 4s/step - loss: 0.1791 - accuracy: 0.9298 - val_loss: 0.2774 - val_accuracy: 0.8932\n",
      "Epoch 11/32\n",
      "36/36 [==============================] - 138s 4s/step - loss: 0.1584 - accuracy: 0.9394 - val_loss: 0.2756 - val_accuracy: 0.8935\n",
      "Epoch 12/32\n",
      "36/36 [==============================] - 140s 4s/step - loss: 0.1547 - accuracy: 0.9406 - val_loss: 0.2732 - val_accuracy: 0.8925\n",
      "Epoch 13/32\n",
      "36/36 [==============================] - 138s 4s/step - loss: 0.1546 - accuracy: 0.9407 - val_loss: 0.2764 - val_accuracy: 0.8942\n",
      "Epoch 14/32\n",
      "36/36 [==============================] - 140s 4s/step - loss: 0.1534 - accuracy: 0.9417 - val_loss: 0.2745 - val_accuracy: 0.8942\n",
      "Epoch 15/32\n",
      "36/36 [==============================] - 140s 4s/step - loss: 0.1522 - accuracy: 0.9409 - val_loss: 0.2739 - val_accuracy: 0.8947\n",
      "Epoch 16/32\n",
      "36/36 [==============================] - 139s 4s/step - loss: 0.1484 - accuracy: 0.9439 - val_loss: 0.2755 - val_accuracy: 0.8938\n",
      "Epoch 17/32\n",
      "36/36 [==============================] - 139s 4s/step - loss: 0.1464 - accuracy: 0.9442 - val_loss: 0.2760 - val_accuracy: 0.8932\n",
      "Epoch 18/32\n",
      "36/36 [==============================] - 141s 4s/step - loss: 0.1468 - accuracy: 0.9441 - val_loss: 0.2767 - val_accuracy: 0.8938\n",
      "Epoch 19/32\n",
      "36/36 [==============================] - 140s 4s/step - loss: 0.1476 - accuracy: 0.9432 - val_loss: 0.2771 - val_accuracy: 0.8945\n",
      "Epoch 20/32\n",
      "36/36 [==============================] - 141s 4s/step - loss: 0.1434 - accuracy: 0.9451 - val_loss: 0.2775 - val_accuracy: 0.8940\n",
      "Wall time: 42min 50s\n"
     ]
    }
   ],
   "metadata": {}
  },
  {
   "cell_type": "markdown",
   "source": [
    "### Model Evaluation\r\n",
    "\r\n",
    "We evaluate the model using the test set. "
   ],
   "metadata": {}
  },
  {
   "cell_type": "code",
   "execution_count": 31,
   "source": [
    "%%time\r\n",
    "score = model.evaluate(x_test, y_test, batch_size=BATCH_SIZE)\r\n",
    "print()\r\n",
    "print(\"ACCURACY:\",score[1])\r\n",
    "print(\"LOSS:\",score[0])"
   ],
   "outputs": [
    {
     "output_type": "stream",
     "name": "stdout",
     "text": [
      "10/10 [==============================] - 10s 1s/step - loss: 0.2642 - accuracy: 0.9040\n",
      "\n",
      "ACCURACY: 0.9039999842643738\n",
      "LOSS: 0.26417699456214905\n",
      "Wall time: 10.2 s\n"
     ]
    }
   ],
   "metadata": {}
  },
  {
   "cell_type": "markdown",
   "source": [
    "### Plotting of Accuracy and Loss Graphs"
   ],
   "metadata": {}
  },
  {
   "cell_type": "code",
   "execution_count": 32,
   "source": [
    "acc = history.history['accuracy']\r\n",
    "val_acc = history.history['val_accuracy']\r\n",
    "loss = history.history['loss']\r\n",
    "val_loss = history.history['val_loss']\r\n",
    " \r\n",
    "epochs = range(len(acc))\r\n",
    " \r\n",
    "plt.plot(epochs, acc, 'b', label='Training acc')\r\n",
    "plt.plot(epochs, val_acc, 'r', label='Validation acc')\r\n",
    "plt.title('Training and validation accuracy')\r\n",
    "plt.legend()\r\n",
    " \r\n",
    "plt.figure()\r\n",
    " \r\n",
    "plt.plot(epochs, loss, 'b', label='Training loss')\r\n",
    "plt.plot(epochs, val_loss, 'r', label='Validation loss')\r\n",
    "plt.title('Training and validation loss')\r\n",
    "plt.legend()\r\n",
    " \r\n",
    "plt.show()"
   ],
   "outputs": [
    {
     "output_type": "display_data",
     "data": {
      "text/plain": [
       "<Figure size 432x288 with 1 Axes>"
      ],
      "image/png": "[encoded data removed]"
     },
     "metadata": {
      "needs_background": "light"
     }
    },
    {
     "output_type": "display_data",
     "data": {
      "text/plain": [
       "<Figure size 432x288 with 1 Axes>"
      ],
      "image/png": "[encoded data removed]"
     },
     "metadata": {
      "needs_background": "light"
     }
    }
   ],
   "metadata": {}
  },
  {
   "cell_type": "markdown",
   "source": [
    "### Plotting Confusion Matrix"
   ],
   "metadata": {}
  },
  {
   "cell_type": "code",
   "execution_count": 33,
   "source": [
    "def plot_confusion_matrix(cm, classes,\r\n",
    "                          title='Confusion matrix',\r\n",
    "                          cmap=plt.cm.Blues):\r\n",
    "    \"\"\"\r\n",
    "    This function prints and plots the confusion matrix.\r\n",
    "    Normalization can be applied by setting `normalize=True`.\r\n",
    "    \"\"\"\r\n",
    "\r\n",
    "    cm = cm.astype('float') / cm.sum(axis=1)[:, np.newaxis]\r\n",
    "\r\n",
    "    plt.imshow(cm, interpolation='nearest', cmap=cmap)\r\n",
    "    plt.title(title, fontsize=30)\r\n",
    "    plt.colorbar()\r\n",
    "    tick_marks = np.arange(len(classes))\r\n",
    "    plt.xticks(tick_marks, classes, rotation=90, fontsize=22)\r\n",
    "    plt.yticks(tick_marks, classes, fontsize=22)\r\n",
    "\r\n",
    "    fmt = '.2f'\r\n",
    "    thresh = cm.max() / 2.\r\n",
    "    for i, j in itertools.product(range(cm.shape[0]), range(cm.shape[1])):\r\n",
    "        plt.text(j, i, format(cm[i, j], fmt),\r\n",
    "                 horizontalalignment=\"center\",\r\n",
    "                 color=\"white\" if cm[i, j] > thresh else \"black\")\r\n",
    "\r\n",
    "    plt.ylabel('True label', fontsize=25)\r\n",
    "    plt.xlabel('Predicted label', fontsize=25)"
   ],
   "outputs": [],
   "metadata": {}
  },
  {
   "cell_type": "code",
   "execution_count": 34,
   "source": [
    "def decode_sentiment(score):\r\n",
    "    return \"negative\" if score < 0.5 else \"positive\""
   ],
   "outputs": [],
   "metadata": {}
  },
  {
   "cell_type": "code",
   "execution_count": 35,
   "source": [
    "%%time\r\n",
    "y_pred_1d = []\r\n",
    "y_test_1d = list(df_test.sentiment)\r\n",
    "scores = model.predict(x_test, verbose=1, batch_size=8000)\r\n",
    "y_pred_1d = [decode_sentiment(score) for score in scores]"
   ],
   "outputs": [
    {
     "output_type": "stream",
     "name": "stdout",
     "text": [
      "2/2 [==============================] - 10s 2s/step\n",
      "Wall time: 10.1 s\n"
     ]
    }
   ],
   "metadata": {}
  },
  {
   "cell_type": "code",
   "execution_count": 36,
   "source": [
    "cnf_matrix = confusion_matrix(y_test_1d, y_pred_1d)\r\n",
    "plt.figure(figsize=(12,12))\r\n",
    "plot_confusion_matrix(cnf_matrix, classes=df_train.sentiment.unique(), title=\"Confusion matrix\")\r\n",
    "plt.show()"
   ],
   "outputs": [
    {
     "output_type": "display_data",
     "data": {
      "text/plain": [
       "<Figure size 864x864 with 2 Axes>"
      ],
      "image/png": "[encoded data removed]"
     },
     "metadata": {
      "needs_background": "light"
     }
    }
   ],
   "metadata": {}
  },
  {
   "cell_type": "code",
   "execution_count": 37,
   "source": [
    "print(classification_report(y_test_1d, y_pred_1d))\r\n"
   ],
   "outputs": [
    {
     "output_type": "stream",
     "name": "stdout",
     "text": [
      "              precision    recall  f1-score   support\n",
      "\n",
      "    negative       0.91      0.90      0.90      4979\n",
      "    positive       0.90      0.91      0.90      5021\n",
      "\n",
      "    accuracy                           0.90     10000\n",
      "   macro avg       0.90      0.90      0.90     10000\n",
      "weighted avg       0.90      0.90      0.90     10000\n",
      "\n"
     ]
    }
   ],
   "metadata": {}
  },
  {
   "cell_type": "code",
   "execution_count": 38,
   "source": [
    "accuracy_score(y_test_1d, y_pred_1d)\r\n"
   ],
   "outputs": [
    {
     "output_type": "execute_result",
     "data": {
      "text/plain": [
       "0.904"
      ]
     },
     "metadata": {},
     "execution_count": 38
    }
   ],
   "metadata": {}
  },
  {
   "cell_type": "markdown",
   "source": [
    "### Saving our models"
   ],
   "metadata": {}
  },
  {
   "cell_type": "code",
   "execution_count": 39,
   "source": [
    "model.save(KERAS_MODEL)\r\n",
    "w2v_model.save(WORD2VEC_MODEL)\r\n",
    "pickle.dump(tokenizer, open(TOKENIZER_MODEL, \"wb\"), protocol=0)\r\n",
    "pickle.dump(encoder, open(ENCODER_MODEL, \"wb\"), protocol=0)"
   ],
   "outputs": [],
   "metadata": {}
  },
  {
   "cell_type": "markdown",
   "source": [
    "### Predicting new text data"
   ],
   "metadata": {}
  },
  {
   "cell_type": "code",
   "execution_count": 40,
   "source": [
    "def predict(text):\r\n",
    "    x_test = pad_sequences(tokenizer.texts_to_sequences([text]), maxlen=SEQUENCE_LENGTH)\r\n",
    "    score = model.predict([x_test])[0]\r\n",
    "    label = decode_sentiment(score)\r\n",
    "    return {\"label\": label, \"score\": float(score)}"
   ],
   "outputs": [],
   "metadata": {}
  },
  {
   "cell_type": "code",
   "execution_count": 41,
   "source": [
    "predict(\"This movie was good!\")"
   ],
   "outputs": [
    {
     "output_type": "execute_result",
     "data": {
      "text/plain": [
       "{'label': 'positive', 'score': 0.6421607732772827}"
      ]
     },
     "metadata": {},
     "execution_count": 41
    }
   ],
   "metadata": {}
  },
  {
   "cell_type": "code",
   "execution_count": 42,
   "source": [
    "predict(\"This movie was very bad. So boring!\")"
   ],
   "outputs": [
    {
     "output_type": "execute_result",
     "data": {
      "text/plain": [
       "{'label': 'negative', 'score': 0.1716214120388031}"
      ]
     },
     "metadata": {},
     "execution_count": 42
    }
   ],
   "metadata": {}
  }
 ]
}